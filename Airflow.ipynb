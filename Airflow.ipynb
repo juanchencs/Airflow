{
 "cells": [
  {
   "cell_type": "markdown",
   "metadata": {},
   "source": []
  },
  {
   "cell_type": "code",
   "execution_count": null,
   "metadata": {},
   "outputs": [],
   "source": []
  },
  {
   "cell_type": "markdown",
   "metadata": {},
   "source": [
    "setup the Docker environment\n",
    "Airflow的/usr/local/airflow/dags 文件夹和win10的D:/winfile是共享的"
   ]
  },
  {
   "cell_type": "code",
   "execution_count": null,
   "metadata": {},
   "outputs": [],
   "source": [
    "docker pull   airflowbook/airflow\n",
    "docker  run  -it  --rm  -p 10002:8080  -v  D:/winfile:/usr/local/airflow/dags \n",
    "airflowbook/airflow\n",
    "\n",
    "http://localhost:10002"
   ]
  },
  {
   "cell_type": "markdown",
   "metadata": {},
   "source": []
  },
  {
   "cell_type": "code",
   "execution_count": null,
   "metadata": {},
   "outputs": [],
   "source": [
    "#import libraries\n",
    "import json\n",
    "import pathlib\n",
    "import airflow\n",
    "import requests\n",
    "from airflow import DAG\n",
    "from airflow.operators.bash_operator import BashOperator\n",
    "from airflow.operators.python_operator import PythonOperator"
   ]
  },
  {
   "cell_type": "markdown",
   "metadata": {},
   "source": [
    "# task / operator\n",
    "BashOperator                    run a Bash script\n",
    "Python operator                 run a Python function\n",
    "EmailOperator                   send an email\n",
    "HTTPOperator                    call an HTTP endpoint "
   ]
  },
  {
   "cell_type": "code",
   "execution_count": null,
   "metadata": {},
   "outputs": [],
   "source": [
    "#Three tasks form a DAG: download_data, get_pictures from the data, notify (send pictures to specified email)\n",
    "#run a Bash script, run python, run a Bash script\n",
    "#Three tasks in the same DAG are based on the same DAG\n",
    "\n",
    "dag = DAG(\n",
    "dag_id=\"download_rocket_launches\",\n",
    "start_date=airflow.utils.dates.days_ago(14),\n",
    "schedule_interval=None,\n",
    ")\n",
    "\n",
    "#task 1 fetching josn data through bash command. 一条bash命令就可以从指定URL获取网页数据并存入tmp文件夹下的launches.json文件中\n",
    "download_launches = BashOperator( \n",
    "task_id=\"download_launches\",\n",
    "bash_command=\"curl -o /tmp/launches.json\n",
    "'https://launchlibrary.net/1.4/launch?next=5&mode=verbose'\",\n",
    "dag=dag,  #all tasks within the same DAG reference this dag \n",
    "\n",
    "\n",
    "\n",
    "#从launches.json中读出URL地址，下载对应的images，存入/tmp/images 文件夹\n",
    "def _get_pictures():   \n",
    "\n",
    "pathlib.Path(\"/tmp/images\").mkdir(parents=True, exist_ok=True) # Ensure directory exists\n",
    "# Download all pictures in launches.json\n",
    "with open(\"/tmp/launches.json\") as f:\n",
    "launches = json.load(f)\n",
    "image_urls = [launch[\"rocket\"][\"imageURL\"] for launch in launches[\"launches\"]]\n",
    "for image_url in image_urls:\n",
    "response = requests.get(image_url)  \n",
    "image_filename = image_url.split(\"/\")[-1]\n",
    "target_file = f\"/tmp/images/{image_filename}\"\n",
    "with open(target_file, \"wb\") as f:  #将对应URL的图片存入电脑的target_file中\n",
    "f.write(response.content)\n",
    "print(f\"Downloaded {image_url} to {target_file}\")\n",
    "    \n",
    "    \n",
    "#task 2    \n",
    "#run a Python function    \n",
    "get_pictures = PythonOperator(\n",
    "task_id=\"get_pictures\",\n",
    "python_callable=_get_pictures,  #调用哪个python function\n",
    "dag=dag,\n",
    ")\n",
    "\n",
    "#task 3\n",
    "#显示下载了多少张图片\n",
    "notify = BashOperator(\n",
    "task_id=\"notify\",\n",
    "bash_command='echo \"There are now $(ls /tmp/images/ | wc -l) images.\"',\n",
    "dag=dag,\n",
    ")\n",
    "\n",
    "#To make sure the tasks run in the correct order\n",
    "download_launches >> get_pictures >> notify"
   ]
  },
  {
   "cell_type": "markdown",
   "metadata": {},
   "source": [
    "so run either in the background with airflow scheduler & or open a second terminal\n",
    "window to run the scheduler and webserver separately. After you’re set up, browse to\n",
    "http://localhost:8080 to view Airflow."
   ]
  },
  {
   "cell_type": "code",
   "execution_count": null,
   "metadata": {},
   "outputs": [],
   "source": [
    "airflow initdb\n",
    "cp download_rocket_launches.py ~/airflow/dags/\n",
    "airflow scheduler\n",
    "airflow webserver"
   ]
  },
  {
   "cell_type": "code",
   "execution_count": null,
   "metadata": {},
   "outputs": [],
   "source": []
  },
  {
   "cell_type": "code",
   "execution_count": null,
   "metadata": {},
   "outputs": [],
   "source": []
  },
  {
   "cell_type": "code",
   "execution_count": null,
   "metadata": {},
   "outputs": [],
   "source": []
  },
  {
   "cell_type": "code",
   "execution_count": null,
   "metadata": {},
   "outputs": [],
   "source": [
    "#import libraries\n",
    "import json\n",
    "import pathlib\n",
    "import airflow\n",
    "import requests\n",
    "from airflow import DAG\n",
    "from airflow.operators.bash_operator import BashOperator\n",
    "from airflow.operators.python_operator import PythonOperator\n",
    " \n",
    "\n",
    "dag = DAG(\n",
    "dag_id=\"download_rocket_launches\",\n",
    "start_date=airflow.utils.dates.days_ago(14),\n",
    "schedule_interval=None,\n",
    ")\n",
    "\n",
    "#task 1 fetching josn data through bash command. 一条bash命令就可以从指定URL获取网页数据并存入tmp文件夹下的launches.json文件中\n",
    "download_launches = BashOperator( \n",
    "task_id=\"download_launches\",\n",
    "bash_command=\"curl -o /tmp/launches.json\n",
    "'https://launchlibrary.net/1.4/launch?next=5&mode=verbose'\",\n",
    "dag=dag,  #all tasks within the same DAG reference this dag \n",
    "\n",
    "\n",
    "\n",
    "#从launches.json中读出URL地址，下载对应的images，存入/tmp/images 文件夹\n",
    "def _get_pictures():   \n",
    "\n",
    "    pathlib.Path(\"/tmp/images\").mkdir(parents=True, exist_ok=True) # Ensure directory exists\n",
    " \n",
    "    with open(\"/tmp/launches.json\") as f:\n",
    "        launches = json.load(f)\n",
    "        image_urls = [launch[\"rocket\"][\"imageURL\"] for launch in launches[\"launches\"]]\n",
    "    \n",
    "        for image_url in image_urls:\n",
    "            response = requests.get(image_url)  \n",
    "            image_filename = image_url.split(\"/\")[-1]\n",
    "            target_file = f\"/tmp/images/{image_filename}\"\n",
    "    \n",
    "            with open(target_file, \"wb\") as f:  #将对应URL的图片存入电脑的target_file中\n",
    "                f.write(response.content)\n",
    "            print(f\"Downloaded {image_url} to {target_file}\")\n",
    "    \n",
    "    \n",
    "#task 2    \n",
    "#run a Python function    \n",
    "get_pictures = PythonOperator(\n",
    "task_id=\"get_pictures\",\n",
    "python_callable=_get_pictures,  #调用哪个python function\n",
    "dag=dag,\n",
    ")\n",
    "\n",
    "#task 3\n",
    "#显示下载了多少张图片\n",
    "notify = BashOperator(\n",
    "task_id=\"notify\",\n",
    "bash_command='echo \"There are now $(ls /tmp/images/ | wc -l) images.\"',\n",
    "dag=dag,\n",
    ")\n",
    "\n",
    "#To make sure the tasks run in the correct order\n",
    "download_launches >> get_pictures >> notify"
   ]
  }
 ],
 "metadata": {
  "kernelspec": {
   "display_name": "Python 3",
   "language": "python",
   "name": "python3"
  },
  "language_info": {
   "codemirror_mode": {
    "name": "ipython",
    "version": 3
   },
   "file_extension": ".py",
   "mimetype": "text/x-python",
   "name": "python",
   "nbconvert_exporter": "python",
   "pygments_lexer": "ipython3",
   "version": "3.7.6"
  }
 },
 "nbformat": 4,
 "nbformat_minor": 4
}
